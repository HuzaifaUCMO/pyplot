{
 "cells": [
  {
   "cell_type": "markdown",
   "id": "55743d89",
   "metadata": {},
   "source": [
    "# Module 4: NLP & Sentiment Analysis\n",
    "Huzaifa Nadeem\n"
   ]
  },
  {
   "cell_type": "code",
   "execution_count": 9,
   "id": "bd724e35",
   "metadata": {},
   "outputs": [
    {
     "name": "stdout",
     "output_type": "stream",
     "text": [
      "Text: The fighter was amazing but the judges were terrible.\n",
      "Sentiment: Neutral\n"
     ]
    }
   ],
   "source": [
    "# Built-in packages only\n",
    "import json\n",
    "import pickle\n",
    "\n",
    "# Define simple positive and negative word lists\n",
    "positive_words = [\"good\", \"great\", \"amazing\", \"excellent\", \"happy\", \"love\", \"wonderful\", \"awesome\"]\n",
    "negative_words = [\"bad\", \"terrible\", \"awful\", \"worst\", \"hate\", \"sad\", \"poor\", \"disappointing\"]\n",
    "\n",
    "# Basic sentiment analyzer\n",
    "def basic_sentiment(text):\n",
    "    text = text.lower()\n",
    "    pos_count = sum(word in text for word in positive_words)\n",
    "    neg_count = sum(word in text for word in negative_words)\n",
    "    \n",
    "    if pos_count > neg_count:\n",
    "        return \"Positive\"\n",
    "    elif neg_count > pos_count:\n",
    "        return \"Negative\"\n",
    "    else:\n",
    "        return \"Neutral\"\n",
    "\n",
    "# Example usage\n",
    "text = \"The fighter was amazing but the judges were terrible.\"\n",
    "result = basic_sentiment(text)\n",
    "\n",
    "print(\"Text:\", text)\n",
    "print(\"Sentiment:\", result)"
   ]
  }
 ],
 "metadata": {
  "kernelspec": {
   "display_name": "Python 3",
   "language": "python",
   "name": "python3"
  },
  "language_info": {
   "name": "python",
   "version": ""
  }
 },
 "nbformat": 4,
 "nbformat_minor": 5
}
